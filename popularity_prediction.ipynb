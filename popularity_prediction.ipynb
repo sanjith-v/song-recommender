{
 "cells": [
  {
   "cell_type": "markdown",
   "id": "cfcba42a",
   "metadata": {},
   "source": [
    "# Notebook 3 — Predicting Spotify “Hits” with Machine-Learning  \n",
    "\n",
    "This notebook tackles the question: **“Can we flag tracks that will become popular?”**  \n",
    "We treat the top-5 % of songs (by Spotify’s _popularity_ score) as **hits** and build binary classifiers to separate them from the vast majority of non-hits.\n",
    "\n",
    "---\n",
    "\n",
    "## Workflow Recap  \n",
    "\n",
    "| Step | What we did |\n",
    "|------|-------------|\n",
    "| **1&nbsp;· Data Prep** | • Dropped serial-number column  • Selected audio features + `genre` + `year`  • One-hot encoded `genre`  • Scaled numeric vars. |\n",
    "| **2&nbsp;· Target Definition** | 95th-percentile popularity (≈ `pop ≥ 75`) → `is_hit ∈ {0,1}`. Imbalanced: ≈ 5 % hits. |\n",
    "| **3&nbsp;· Train/Test Split** | 80 / 20 stratified split (≈ 1.16 M / 0.29 M rows). |\n",
    "| **4&nbsp;· Baseline** | Logistic Regression with class-weight = `balanced`. |\n",
    "| **5&nbsp;· Advanced Model** | XGBoost (600 trees, depth 6, `scale_pos_weight` to offset imbalance). |\n",
    "| **6&nbsp;· Evaluation** | Accuracy, ROC-AUC, confusion matrix, precision / recall / F1, 5-fold CV. |\n",
    "| **7&nbsp;· Explainability** | XGB feature-gain chart (top-20). |\n",
    "\n",
    "---\n",
    "\n",
    "## Results  \n",
    "\n",
    "| Metric (test set) | Logistic Reg | XGBoost |\n",
    "|-------------------|-------------:|--------:|\n",
    "| **Accuracy**      | 0.827 | **0.854** |\n",
    "| **ROC-AUC**       | 0.917 | **0.934** |\n",
    "| **Hit-class Recall** | 0.850 | **0.860** |\n",
    "| **Hit-class Precision** | 0.207 | **0.239** |\n",
    "| **5-fold CV AUC** | – | **0.932 ± 0.001** |\n",
    "\n",
    "*XGBoost outperforms the linear baseline across every metric while maintaining very high recall on the rare “hit” class.*\n",
    "\n",
    "### Feature-Importance Highlights (XGB, “gain”)\n",
    "\n",
    "| Rank | Feature | Signal |\n",
    "|------|---------|--------|\n",
    "| 1-3  | `genre_pop`, `genre_hip-hop`, `genre_dance` | Strongest positive drivers of hit status |\n",
    "| 4-6  | `genre_alt-rock`, `genre_rock`, `genre_indie-pop` | Niche/alt genres with surprising lift |\n",
    "| 7-10 | Audio traits (energy, valence, danceability) begin to appear | Non-linear combos matter but genre dominates |\n",
    "\n",
    "---\n",
    "\n",
    "## Business Takeaways  \n",
    "\n",
    "* **A&R / Scouting** → Use the model as a ranking engine: review the top-scored 1 % of new releases to focus talent-search on likely hits.  \n",
    "* **Playlist Curation** → Auto-populate “Fresh Finds”, “Dance Rising”, etc., with tracks above a calibrated probability threshold; editors then curate.  \n",
    "* **Marketing Spend** → Insights confirm that pop, hip-hop and dance genres still yield the highest marginal return; allocate promo budgets accordingly.  \n",
    "* **Model Governance** → High recall (≤ 10 % of hits missed) but modest precision (≈ 24 %) means false positives are tolerable in discovery contexts; tune threshold upwards for consumer-facing autoplay lists.\n",
    "\n",
    "---\n",
    "\n",
    "Next up (Notebook 4): **Content-Based Recommendation** — we’ll leverage the same feature space plus the archetype clusters to build a nearest-neighbor recommender that surfaces similar tracks to any seed song.\n"
   ]
  },
  {
   "cell_type": "code",
   "execution_count": 11,
   "id": "d4cd6705",
   "metadata": {},
   "outputs": [
    {
     "name": "stdout",
     "output_type": "stream",
     "text": [
      "Shape after drop: (1159764, 19)\n"
     ]
    }
   ],
   "source": [
    "import pandas as pd\n",
    "import numpy as np\n",
    "import matplotlib.pyplot as plt\n",
    "from sklearn.model_selection import train_test_split, cross_val_score, StratifiedKFold\n",
    "from sklearn.preprocessing import StandardScaler, OneHotEncoder\n",
    "from sklearn.compose import ColumnTransformer\n",
    "from sklearn.pipeline import Pipeline\n",
    "from sklearn.metrics import (\n",
    "    accuracy_score, roc_auc_score, classification_report,\n",
    "    roc_curve, confusion_matrix, ConfusionMatrixDisplay\n",
    ")\n",
    "from sklearn.linear_model import LogisticRegression\n",
    "from sklearn.ensemble import RandomForestClassifier\n",
    "import warnings\n",
    "warnings.filterwarnings('ignore')\n",
    "\n",
    "# Load the CSV\n",
    "df = pd.read_csv(\"spotify_data.csv\")\n",
    "\n",
    "# Optional: drop unnamed serial-number col if present\n",
    "df = df.loc[:, ~df.columns.str.match('Unnamed')]\n",
    "print(\"Shape after drop:\", df.shape)\n"
   ]
  },
  {
   "cell_type": "code",
   "execution_count": 12,
   "id": "9d018d6d",
   "metadata": {},
   "outputs": [
    {
     "name": "stdout",
     "output_type": "stream",
     "text": [
      "Top-5 % hit threshold: popularity ≥ 49\n",
      "is_hit\n",
      "0    0.949211\n",
      "1    0.050789\n",
      "Name: class proportion, dtype: float64\n"
     ]
    }
   ],
   "source": [
    "# Define the 95th-percentile popularity threshold\n",
    "pop_threshold = df['popularity'].quantile(0.95)\n",
    "print(f\"Top-5 % hit threshold: popularity ≥ {pop_threshold:.0f}\")\n",
    "\n",
    "df['is_hit'] = (df['popularity'] >= pop_threshold).astype(int)\n",
    "print(df['is_hit'].value_counts(normalize=True).rename('class proportion'))\n",
    "\n",
    "# Features for modeling\n",
    "num_features = [\n",
    "    'danceability','energy','key','loudness','mode','speechiness',\n",
    "    'acousticness','instrumentalness','liveness','valence',\n",
    "    'tempo','duration_ms','time_signature','year'\n",
    "]\n",
    "cat_features = ['genre']      # One-hot encode (remove if many unique)\n",
    "all_features = num_features + cat_features\n"
   ]
  },
  {
   "cell_type": "code",
   "execution_count": 13,
   "id": "489488dc",
   "metadata": {},
   "outputs": [],
   "source": [
    "X = df[all_features]\n",
    "y = df['is_hit']\n",
    "\n",
    "X_train, X_test, y_train, y_test = train_test_split(\n",
    "    X, y, test_size=0.2, stratify=y, random_state=42\n",
    ")\n",
    "\n",
    "# Preprocess: scale numerics, one-hot categoricals\n",
    "preprocess = ColumnTransformer(\n",
    "    transformers=[\n",
    "        ('num', StandardScaler(), num_features),\n",
    "        ('cat', OneHotEncoder(handle_unknown='ignore'), cat_features)\n",
    "    ]\n",
    ")\n"
   ]
  },
  {
   "cell_type": "code",
   "execution_count": 14,
   "id": "61755db1",
   "metadata": {},
   "outputs": [
    {
     "name": "stdout",
     "output_type": "stream",
     "text": [
      "LogReg Accuracy: 0.8272839756329946\n",
      "LogReg ROC AUC: 0.917203735298225\n",
      "              precision    recall  f1-score   support\n",
      "\n",
      "           0      0.990     0.826     0.901    220172\n",
      "           1      0.207     0.850     0.333     11781\n",
      "\n",
      "    accuracy                          0.827    231953\n",
      "   macro avg      0.599     0.838     0.617    231953\n",
      "weighted avg      0.951     0.827     0.872    231953\n",
      "\n"
     ]
    },
    {
     "data": {
      "image/png": "[encoded data removed]",
      "text/plain": [
       "<Figure size 432x288 with 2 Axes>"
      ]
     },
     "metadata": {
      "needs_background": "light"
     },
     "output_type": "display_data"
    },
    {
     "data": {
      "image/png": "[encoded data removed]",
      "text/plain": [
       "<Figure size 432x288 with 1 Axes>"
      ]
     },
     "metadata": {
      "needs_background": "light"
     },
     "output_type": "display_data"
    }
   ],
   "source": [
    "logreg_pipe = Pipeline(steps=[\n",
    "    ('prep', preprocess),\n",
    "    ('model', LogisticRegression(max_iter=1000, class_weight='balanced'))\n",
    "])\n",
    "\n",
    "logreg_pipe.fit(X_train, y_train)\n",
    "y_pred = logreg_pipe.predict(X_test)\n",
    "y_prob = logreg_pipe.predict_proba(X_test)[:,1]\n",
    "\n",
    "print(\"LogReg Accuracy:\", accuracy_score(y_test, y_pred))\n",
    "print(\"LogReg ROC AUC:\", roc_auc_score(y_test, y_prob))\n",
    "print(classification_report(y_test, y_pred, digits=3))\n",
    "\n",
    "# Confusion matrix\n",
    "ConfusionMatrixDisplay.from_predictions(y_test, y_pred, cmap='Blues')\n",
    "plt.title(\"Logistic Regression Confusion Matrix\")\n",
    "plt.show()\n",
    "\n",
    "# ROC curve\n",
    "fpr, tpr, _ = roc_curve(y_test, y_prob)\n",
    "plt.plot(fpr, tpr, label='LogReg (AUC = %.3f)' % roc_auc_score(y_test, y_prob))\n",
    "plt.plot([0,1],[0,1], 'k--')\n",
    "plt.xlabel('False Positive Rate'); plt.ylabel('True Positive Rate')\n",
    "plt.title('ROC Curve'); plt.legend(); plt.show()\n"
   ]
  },
  {
   "cell_type": "code",
   "execution_count": null,
   "id": "e284e3cf",
   "metadata": {},
   "outputs": [],
   "source": [
    "from xgboost import XGBClassifier\n",
    "\n",
    "# Handle class imbalance with scale_pos_weight = (neg / pos)\n",
    "neg_pos_ratio = (y_train == 0).sum() / (y_train == 1).sum()\n",
    "\n",
    "xgb_pipe = Pipeline(steps=[\n",
    "    ('prep', preprocess),\n",
    "    ('model', XGBClassifier(\n",
    "        n_estimators=600,\n",
    "        learning_rate=0.05,\n",
    "        max_depth=6,\n",
    "        subsample=0.8,\n",
    "        colsample_bytree=0.8,\n",
    "        objective='binary:logistic',\n",
    "        eval_metric='auc',\n",
    "        scale_pos_weight=neg_pos_ratio,\n",
    "        random_state=42,\n",
    "        n_jobs=-1\n",
    "    ))\n",
    "])\n",
    "\n",
    "xgb_pipe.fit(X_train, y_train)\n",
    "y_pred_xgb  = xgb_pipe.predict(X_test)\n",
    "y_prob_xgb  = xgb_pipe.predict_proba(X_test)[:, 1]\n",
    "\n",
    "print(\"XGB Accuracy :\", accuracy_score(y_test, y_pred_xgb))\n",
    "print(\"XGB ROC AUC :\", roc_auc_score(y_test, y_prob_xgb))\n",
    "print(classification_report(y_test, y_pred_xgb, digits=3))\n",
    "\n",
    "ConfusionMatrixDisplay.from_predictions(y_test, y_pred_xgb, cmap='Purples')\n",
    "plt.title(\"XGBoost Confusion Matrix\")\n",
    "plt.show()\n",
    "\n",
    "fpr, tpr, _ = roc_curve(y_test, y_prob_xgb)\n",
    "plt.plot(fpr, tpr, label='XGB (AUC = %.3f)' % roc_auc_score(y_test, y_prob_xgb))\n",
    "plt.plot([0,1],[0,1], 'k--')\n",
    "plt.xlabel('False Positive Rate'); plt.ylabel('True Positive Rate')\n",
    "plt.title('ROC Curve'); plt.legend(); plt.show()\n"
   ]
  },
  {
   "cell_type": "code",
   "execution_count": null,
   "id": "d3914490",
   "metadata": {},
   "outputs": [
    {
     "data": {
      "image/png": "[encoded data removed]",
      "text/plain": [
       "<Figure size 432x288 with 1 Axes>"
      ]
     },
     "metadata": {
      "needs_background": "light"
     },
     "output_type": "display_data"
    }
   ],
   "source": [
    "# Retrieve feature names after preprocessing\n",
    "ohe = xgb_pipe.named_steps['prep'].named_transformers_['cat']\n",
    "ohe_feats = list(ohe.get_feature_names_out(cat_features))\n",
    "feature_names = num_features + ohe_feats\n",
    "\n",
    "booster = xgb_pipe.named_steps['model'].get_booster()\n",
    "# importance scores keyed as 'f0', 'f1', ...\n",
    "importance_dict = booster.get_score(importance_type='gain')\n",
    "\n",
    "# Map to actual feature names\n",
    "imp_series = pd.Series({\n",
    "    feature_names[int(k[1:])]: v for k, v in importance_dict.items()\n",
    "}).sort_values(ascending=False)\n",
    "\n",
    "# Plot top 20\n",
    "imp_series.head(20).plot(kind='bar')\n",
    "plt.title('XGBoost – Top 20 Feature Importances (gain)')\n",
    "plt.ylabel('Importance')\n",
    "plt.tight_layout(); plt.show()\n"
   ]
  },
  {
   "cell_type": "code",
   "execution_count": null,
   "id": "cd54e66e",
   "metadata": {},
   "outputs": [
    {
     "name": "stdout",
     "output_type": "stream",
     "text": [
      "XGBoost 5-fold ROC AUC: 0.932 ± 0.001\n"
     ]
    }
   ],
   "source": [
    "cv = StratifiedKFold(n_splits=5, shuffle=True, random_state=42)\n",
    "cv_auc = cross_val_score(\n",
    "    xgb_pipe, X, y,\n",
    "    cv=cv, scoring='roc_auc', n_jobs=-1\n",
    ")\n",
    "print(\"XGBoost 5-fold ROC AUC: %.3f ± %.3f\" % (cv_auc.mean(), cv_auc.std()))\n"
   ]
  },
  {
   "cell_type": "code",
   "execution_count": null,
   "id": "1293e1cd",
   "metadata": {},
   "outputs": [],
   "source": []
  }
 ],
 "metadata": {
  "kernelspec": {
   "display_name": "base",
   "language": "python",
   "name": "python3"
  },
  "language_info": {
   "codemirror_mode": {
    "name": "ipython",
    "version": 3
   },
   "file_extension": ".py",
   "mimetype": "text/x-python",
   "name": "python",
   "nbconvert_exporter": "python",
   "pygments_lexer": "ipython3",
   "version": "3.8.8"
  }
 },
 "nbformat": 4,
 "nbformat_minor": 5
}
